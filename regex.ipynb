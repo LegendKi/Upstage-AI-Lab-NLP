{
 "cells": [
  {
   "cell_type": "markdown",
   "metadata": {},
   "source": [
    "# 정규표현식"
   ]
  },
  {
   "cell_type": "code",
   "execution_count": 1,
   "metadata": {},
   "outputs": [],
   "source": [
    "import re"
   ]
  },
  {
   "cell_type": "markdown",
   "metadata": {},
   "source": [
    "#### re.match(pattern, string, flags)\n",
    "- re.match 함수는 문자열의 처음부터 시작하여 패턴이 일치되는 것이 있는지를 확인한다.\n",
    "- 아래 예시에서 첫번째는 문자열이 a로 시작하기 때문에 매치가 되짐나 나머지 두개는 a로 시작하지 않아 패턴 a와 매치되지 않는다. 매치되지 않을 때 re.match 함수는 None을 반환한다."
   ]
  },
  {
   "cell_type": "code",
   "execution_count": 2,
   "metadata": {},
   "outputs": [
    {
     "name": "stdout",
     "output_type": "stream",
     "text": [
      "<re.Match object; span=(0, 1), match='a'>\n",
      "None\n",
      "None\n"
     ]
    }
   ],
   "source": [
    "print(re.match('a', 'aba'))\n",
    "print(re.match('a', 'bbb'))\n",
    "print(re.match('a', 'baa'))"
   ]
  },
  {
   "cell_type": "markdown",
   "metadata": {},
   "source": [
    "#### re.search(pattern, strihng, flags)\n",
    "- re.search 함수는 re.match와 비슷하지만 문자열의 처음뿐 아니라 중간에서 패턴과 일치되는 부눈이 있는지를 찾는다."
   ]
  },
  {
   "cell_type": "code",
   "execution_count": 3,
   "metadata": {},
   "outputs": [
    {
     "name": "stdout",
     "output_type": "stream",
     "text": [
      "<re.Match object; span=(0, 1), match='a'>\n",
      "None\n",
      "<re.Match object; span=(1, 2), match='a'>\n"
     ]
    }
   ],
   "source": [
    "print(re.search('a', 'aba'))\n",
    "print(re.search('a', 'bbb'))\n",
    "print(re.search('a', 'baa'))"
   ]
  },
  {
   "cell_type": "markdown",
   "metadata": {},
   "source": [
    "#### re.findall(pattern, string, flags)\n",
    "- re.findall 함수는 문자열 중 패턴과 일치되는 모든 부분을 찾는다. \n",
    "- 문자열 중 모든 부분에 대해 겹치는 부분을 모두 반환한다."
   ]
  },
  {
   "cell_type": "code",
   "execution_count": 4,
   "metadata": {},
   "outputs": [
    {
     "name": "stdout",
     "output_type": "stream",
     "text": [
      "['a', 'a']\n",
      "[]\n",
      "['a', 'a']\n",
      "['aaa']\n"
     ]
    }
   ],
   "source": [
    "print(re.findall('a', 'aba'))\n",
    "print(re.findall('a', 'bbb'))\n",
    "print(re.findall('a', 'baa'))\n",
    "print(re.findall('aaa', 'aaaa'))"
   ]
  },
  {
   "cell_type": "markdown",
   "metadata": {},
   "source": [
    "#### re.finditer(pattern, string, flags)\n",
    "- re.findall과 비슷하지만 일치된 문자열의 리스트 대신 matchObj 리스트를 반환한다\n",
    "- iterator 형태로 일치되는 부분의 object를 모두 반환하며 for문을 통해 일치된 위치와 매칭된 문자열을 모두 반환받을 수 있다."
   ]
  },
  {
   "cell_type": "code",
   "execution_count": 5,
   "metadata": {},
   "outputs": [
    {
     "name": "stdout",
     "output_type": "stream",
     "text": [
      "<callable_iterator object at 0x7f28b6794fa0>\n",
      "<re.Match object; span=(1, 2), match='a'>\n",
      "<re.Match object; span=(2, 3), match='a'>\n"
     ]
    }
   ],
   "source": [
    "matchObj_iter = re.finditer('a', 'baa')\n",
    "print(matchObj_iter)\n",
    "\n",
    "for matchObj in matchObj_iter:\n",
    "    print(matchObj)"
   ]
  },
  {
   "cell_type": "markdown",
   "metadata": {},
   "source": [
    "#### re.fullmatch(pattern, string, flags)\n",
    "- re.fullmathc는 패턴과 문자열이 남는 부분 없이 완벽하게 일치하는지를 검사한다.\n",
    "- 완벽하게 일치하지 않을 경우 None을 반환한다."
   ]
  },
  {
   "cell_type": "code",
   "execution_count": 6,
   "metadata": {},
   "outputs": [
    {
     "name": "stdout",
     "output_type": "stream",
     "text": [
      "None\n",
      "None\n",
      "None\n",
      "<re.Match object; span=(0, 3), match='aaa'>\n"
     ]
    }
   ],
   "source": [
    "print(re.fullmatch('a', 'aba'))\n",
    "print(re.fullmatch('a', 'bbb'))\n",
    "print(re.fullmatch('a', 'baa'))\n",
    "print(re.fullmatch('aaa', 'aaa')) "
   ]
  },
  {
   "cell_type": "markdown",
   "metadata": {},
   "source": [
    "### 특수문자\n",
    "- 정규표현식에는 다양한 특수문자들이 존재하며 각 특수 문자들은 패턴 매치에 있어 중요한 역할을 수행하고 정규 표현식을 사용할때만의 규칙이자 문법으로써 작용한다."
   ]
  },
  {
   "cell_type": "markdown",
   "metadata": {},
   "source": [
    "#### [] 대괄호 : 여러 문자 중 하나와 일치\n",
    "- 대괄호 [와 ] 사이에 원하는 문자를 여러개 넣으면 문자열이 넣은 문자 중 하나와 일치시 매칭이 된다.\n",
    "- []안에 많은 문자 종류가 있는지에 상관없이 딱 한 문자와 일치된다."
   ]
  },
  {
   "cell_type": "code",
   "execution_count": 7,
   "metadata": {},
   "outputs": [
    {
     "name": "stdout",
     "output_type": "stream",
     "text": [
      "<re.Match object; span=(0, 26), match='You;re studying re module,'>\n"
     ]
    }
   ],
   "source": [
    "matchObj = re.fullmatch(\"You[;']re studying re module[.,]\", \\\n",
    "                        'You;re studying re module,')\n",
    "print(matchObj)"
   ]
  },
  {
   "cell_type": "markdown",
   "metadata": {},
   "source": [
    "- 문자 - 는 대괄호 안에서 메타 문자역할을 하며 범위를 형성한다. \n",
    "- 예를 들어 [a-z]는 알파벳 소문자중 하나이기만 하면 매칭이 된다."
   ]
  },
  {
   "cell_type": "code",
   "execution_count": 8,
   "metadata": {},
   "outputs": [
    {
     "name": "stdout",
     "output_type": "stream",
     "text": [
      "<re.Match object; span=(0, 15), match='Why so serious?'>\n",
      "<re.Match object; span=(1, 2), match='h'>\n"
     ]
    }
   ],
   "source": [
    "matchObj = re.search('Why [a-z]o serious\\?', 'Why so serious?')\n",
    "print(matchObj)\n",
    "matchObj = re.search('[a-z]', 'Why so serious?')\n",
    "print(matchObj)"
   ]
  },
  {
   "cell_type": "markdown",
   "metadata": {},
   "source": [
    "#### .마침표 : 모든 문자와 일치\n",
    "- 모든 문자와 일치하는 정규 표현식은 마침표 . 로 모든 문자와 일치를 시키고 싶을때는 마침표 . 를 사용한다."
   ]
  },
  {
   "cell_type": "code",
   "execution_count": 11,
   "metadata": {},
   "outputs": [
    {
     "name": "stdout",
     "output_type": "stream",
     "text": [
      "['ryan.']\n"
     ]
    }
   ],
   "source": [
    "matchObj = re.findall('r..n[.]', 'ryan. ruin rain round. reign')\n",
    "print(matchObj)"
   ]
  },
  {
   "cell_type": "markdown",
   "metadata": {},
   "source": [
    "### 문자집합\n",
    "정규표현식에서 알파벳 중 일부 문자들은 백슬래시와 함께 특수한 경우를 나타내는 일종의 기호 역할을 한다."
   ]
  },
  {
   "cell_type": "markdown",
   "metadata": {},
   "source": [
    "#### \\w, \\W : 단어 문자, 비 단어 문자\n",
    "- \\w는 단어 문자 1개와 일치된다. 단어 문자는 영문, 대소문자, 숫자 0-9, 언더바 '_'를 포함한다.\n",
    "- \\W는 단어 문자 이외의 문자 1개에 일치되어 공백 문자, 특수 문자 등에 일치된다."
   ]
  },
  {
   "cell_type": "code",
   "execution_count": 12,
   "metadata": {},
   "outputs": [
    {
     "name": "stdout",
     "output_type": "stream",
     "text": [
      "<re.Match object; span=(0, 3), match='a_가'>\n",
      "['a a']\n"
     ]
    }
   ],
   "source": [
    "matchObj = re.search('\\w\\w\\w', 'a_가')\n",
    "print(matchObj)\n",
    "matchObj = re.findall('\\w\\W\\w', 'a (a a')\n",
    "print(matchObj)"
   ]
  },
  {
   "cell_type": "markdown",
   "metadata": {},
   "source": [
    "#### \\d, \\D : 숫자 문자, 비 숫자 문자"
   ]
  },
  {
   "cell_type": "code",
   "execution_count": 13,
   "metadata": {},
   "outputs": [
    {
     "name": "stdout",
     "output_type": "stream",
     "text": [
      "<re.Match object; span=(0, 2), match='12'>\n",
      "['11aa']\n"
     ]
    }
   ],
   "source": [
    "matchObj = re.search('\\d\\d', '12abc34') # 연속된 숫자 2개에 대해 일치\n",
    "print(matchObj)\n",
    "matchObj = re.findall('\\d\\d\\D\\D', '11aa11c1') # 연속된 숫자 2개+연속된 비숫자문자 2개에 일치\n",
    "print(matchObj)"
   ]
  },
  {
   "cell_type": "markdown",
   "metadata": {},
   "source": [
    "#### \\s, \\S : 공백 문자, 비 공백 문자"
   ]
  },
  {
   "cell_type": "code",
   "execution_count": 14,
   "metadata": {},
   "outputs": [
    {
     "name": "stdout",
     "output_type": "stream",
     "text": [
      "<re.Match object; span=(0, 11), match='Oh my\\tgod\\n!'>\n"
     ]
    }
   ],
   "source": [
    "matchObj = re.search(\n",
    "    'Oh\\smy\\sgod\\s\\S',\n",
    "    '''Oh my\\tgod\n",
    "!''')\n",
    "print(matchObj)"
   ]
  },
  {
   "cell_type": "markdown",
   "metadata": {},
   "source": [
    "#### ^\n",
    "- ^는 문자열의 맨 처음과 일치한다는 것을 의미한다."
   ]
  },
  {
   "cell_type": "code",
   "execution_count": 15,
   "metadata": {},
   "outputs": [
    {
     "name": "stdout",
     "output_type": "stream",
     "text": [
      "<re.Match object; span=(0, 4), match='Life'>\n",
      "None\n"
     ]
    }
   ],
   "source": [
    "print(re.search('^Life', 'Life is too short')) # Life로 시작하는 단어에 대해 일치\n",
    "print(re.search('^Life', 'My Life'))"
   ]
  },
  {
   "cell_type": "markdown",
   "metadata": {},
   "source": [
    "#### $ \n",
    "- $는 문자열의 끝과 매치한다는 것을 의미한다"
   ]
  },
  {
   "cell_type": "code",
   "execution_count": 16,
   "metadata": {},
   "outputs": [
    {
     "name": "stdout",
     "output_type": "stream",
     "text": [
      "<re.Match object; span=(12, 17), match='short'>\n",
      "None\n"
     ]
    }
   ],
   "source": [
    "print(re.search('short$', 'Life is too short')) # short가 마지막에 와야 일치\n",
    "print(re.search('short$', 'Life is too short, you need python'))"
   ]
  },
  {
   "cell_type": "markdown",
   "metadata": {},
   "source": [
    "### Flag\n",
    "- Flag는 정규표현식 패턴과 더불어 편리하게 매칭을 지원하기 위한 여러 기능들을 지원한다."
   ]
  },
  {
   "cell_type": "markdown",
   "metadata": {},
   "source": [
    "#### IGNORECASE, I\n",
    "- re.I / re.IGNORECASE 플래그는 대소문자를 구분하지 않고 문자에 일치시킨다. 따라서 패턴을 [a-z]로 동일하게 주었음에도 p와 P에 모두 일치한다."
   ]
  },
  {
   "cell_type": "code",
   "execution_count": 17,
   "metadata": {},
   "outputs": [
    {
     "name": "stdout",
     "output_type": "stream",
     "text": [
      "<re.Match object; span=(0, 1), match='p'>\n",
      "None\n",
      "<re.Match object; span=(0, 1), match='P'>\n"
     ]
    }
   ],
   "source": [
    "print(re.match('[a-z]','p', re.I))\n",
    "print(re.match('[a-z]','P'))\n",
    "print(re.match('[a-z]','P', re.I))"
   ]
  },
  {
   "cell_type": "markdown",
   "metadata": {},
   "source": [
    "#### DOTALL, S\n",
    "- . 메타문자는 줄바꿈 문자(\\n)을 제외한 모든 문자와 매치되는 규칙이 있다. 만약 \\n 문자도 포함하여 매치하고 싶다면 re.DOTALL / re.S 옵션을 사용해 정규식을 사용하면 된다.\n",
    "- 보통 re.DOTALL 옵션은 여러 줄로 이루어진 문자열에서 줄바꿈 문자에 상관없이 검색할 때 많이 사용한다."
   ]
  },
  {
   "cell_type": "code",
   "execution_count": 18,
   "metadata": {},
   "outputs": [
    {
     "name": "stdout",
     "output_type": "stream",
     "text": [
      "None\n",
      "<re.Match object; span=(0, 3), match='a\\nb'>\n"
     ]
    }
   ],
   "source": [
    "print(re.match('a.b', 'a\\nb'))\n",
    "print(re.match('a.b', 'a\\nb', re.S))"
   ]
  },
  {
   "cell_type": "markdown",
   "metadata": {},
   "source": [
    "#### MULTILINE, M\n",
    "- re.MULTILINE 또는 re.M 옵션은 ^, $와 관련된 옵션이다.\n",
    "- ^, $ 문자를 문자열 전체의 처음/마지막이 아니라 각 라인의 처음으로 인식시키고 싶을 때 re.MULTILINE/re.M이다."
   ]
  },
  {
   "cell_type": "code",
   "execution_count": 20,
   "metadata": {},
   "outputs": [
    {
     "name": "stdout",
     "output_type": "stream",
     "text": [
      "['python one']\n"
     ]
    }
   ],
   "source": [
    "data = \"\"\"python one\n",
    "life is too short\n",
    "python two\n",
    "you need python\n",
    "python three\"\"\"\n",
    "\n",
    "print(re.findall('^python\\s\\w+',data))"
   ]
  },
  {
   "cell_type": "code",
   "execution_count": 21,
   "metadata": {},
   "outputs": [
    {
     "name": "stdout",
     "output_type": "stream",
     "text": [
      "['python one', 'python two', 'python three']\n"
     ]
    }
   ],
   "source": [
    "print(re.findall('^python\\s\\w+',data, re.M))"
   ]
  },
  {
   "cell_type": "markdown",
   "metadata": {},
   "source": [
    "### OR과 반복\n",
    "- 같은 문자 또는 패턴이 여러개 존재할 때 이를 반복해서 나타내기 보다는 OR 옵션, 반복 옵션을 사용할 수 있다."
   ]
  },
  {
   "cell_type": "markdown",
   "metadata": {},
   "source": [
    "#### | : 다자택일\n",
    "- 여러 패턴들을 or 조건으로 구분한다. 나열된 조건들 중 한가지만 맞아도 패턴은 정상적으로 일치된다."
   ]
  },
  {
   "cell_type": "code",
   "execution_count": 22,
   "metadata": {},
   "outputs": [
    {
     "name": "stdout",
     "output_type": "stream",
     "text": [
      "['one', 'two', 'three']\n"
     ]
    }
   ],
   "source": [
    "matchObj = re.findall('one|two|three', 'one four two three zero')\n",
    "print(matchObj)"
   ]
  },
  {
   "cell_type": "markdown",
   "metadata": {},
   "source": [
    "- oneself가 있음에도 one을 먼저 찾아 남은 문자열에서는 더이상 oneself를 찾을 수 없어 조건의 순서가 중요한 경우도 있다."
   ]
  },
  {
   "cell_type": "code",
   "execution_count": 23,
   "metadata": {},
   "outputs": [
    {
     "name": "stdout",
     "output_type": "stream",
     "text": [
      "['one', 'one']\n"
     ]
    }
   ],
   "source": [
    "matchObj = re.findall('one|oneself|onerous', 'oneself is the one thing.') # one 또는 oneself 또는 onerous에 일치\n",
    "print(matchObj)"
   ]
  },
  {
   "cell_type": "markdown",
   "metadata": {},
   "source": [
    "#### * : 0회 이상 반복\n",
    "- 어떤 문자나 기호 뒤에 *을 붙이면 그 문자가 0회 이상 반복됨을 의미한다."
   ]
  },
  {
   "cell_type": "code",
   "execution_count": 24,
   "metadata": {},
   "outputs": [
    {
     "name": "stdout",
     "output_type": "stream",
     "text": [
      "<re.Match object; span=(0, 0), match=''>\n",
      "<re.Match object; span=(0, 1), match='a'>\n",
      "<re.Match object; span=(0, 4), match='aaaa'>\n",
      "<re.Match object; span=(0, 6), match='aaaaaa'>\n",
      "['aaa', '', 'aaa', '', 'aa', '', '', '']\n",
      "<re.Match object; span=(0, 34), match='<p> Lorem ipsum... is boring. </p>'>\n"
     ]
    }
   ],
   "source": [
    "print(re.match('a*', '')) # a가 0개여도 일치\n",
    "print(re.match('a*', 'a'))\n",
    "print(re.search('a*', 'aaaa')) # a가 0개이상이므로 일치\n",
    "print(re.fullmatch('a*', 'aaaaaa'))\n",
    "print(re.findall('a*', 'aaabaaa aa  ')) # 모든 a에 대해 일치\n",
    "\n",
    "matchObj = re.search('<p>.*</p>', '<p> Lorem ipsum... is boring. </p>') # <p>와 </p>사이에 존재하는 0개이상의 모든 문자에 대해 일치\n",
    "print(matchObj)"
   ]
  },
  {
   "cell_type": "markdown",
   "metadata": {},
   "source": [
    "#### + : 1회 이상 반복"
   ]
  },
  {
   "cell_type": "code",
   "execution_count": 25,
   "metadata": {},
   "outputs": [
    {
     "name": "stdout",
     "output_type": "stream",
     "text": [
      "None\n",
      "<re.Match object; span=(0, 1), match='a'>\n",
      "<re.Match object; span=(0, 4), match='aaaa'>\n",
      "<re.Match object; span=(0, 6), match='aaaaaa'>\n",
      "['aaa', 'aaa', 'aa']\n",
      "<re.Match object; span=(0, 34), match='<p> Lorem ipsum... is boring. </p>'>\n"
     ]
    }
   ],
   "source": [
    "print(re.match('a+', '')) # 한번도 나타나지 않으므로 불일치\n",
    "print(re.match('a+', 'a'))\n",
    "print(re.search('a+', 'aaaa'))\n",
    "print(re.fullmatch('a+', 'aaaaaa'))\n",
    "print(re.findall('a+', 'aaabaaa aa  '))\n",
    "\n",
    "matchObj = re.search('<p>.+</p>', '<p> Lorem ipsum... is boring. </p>') # <p>와 </p>사이에 존재하는 1개이상의 모든 문자에 대해 일치\n",
    "print(matchObj)"
   ]
  },
  {
   "cell_type": "markdown",
   "metadata": {},
   "source": [
    "#### {n, m} : 지정 횟수만큼 반복"
   ]
  },
  {
   "cell_type": "code",
   "execution_count": 26,
   "metadata": {},
   "outputs": [
    {
     "name": "stdout",
     "output_type": "stream",
     "text": [
      "<re.Match object; span=(0, 3), match='aaa'>\n",
      "['aaa', 'aaa']\n",
      "['aa', 'aaa', 'aaaa', 'aaaa']\n",
      "['aa', 'aaa', 'aaaa', 'aaaaa']\n"
     ]
    }
   ],
   "source": [
    "print(re.search('a{3}', 'aaaaa')) # 3개의 연속된 a에 대해일치\n",
    "print(re.findall('a{3}', 'aaaaaaaa')) # 3개의 연속된 a에 대해일치\n",
    "print(re.findall('a{2,4}', 'a aa aaa aaaa aaaaa')) # 2개이상 4개이하의 연속된 a에 대해일치\n",
    "print(re.findall('a{2,}', 'a aa aaa aaaa aaaaa')) # 2개이상의 연속된 a에 대해 일치"
   ]
  },
  {
   "cell_type": "markdown",
   "metadata": {},
   "source": [
    "#### ? : 0회 또는 1회 반복"
   ]
  },
  {
   "cell_type": "code",
   "execution_count": 27,
   "metadata": {},
   "outputs": [
    {
     "name": "stdout",
     "output_type": "stream",
     "text": [
      "['aa', 'aba', 'aa', 'aa']\n"
     ]
    }
   ],
   "source": [
    "print(re.findall('ab?a', 'aa aba aaaa')) # a뒤의 b가 0개이상 1개이하인 경우+a인 경우에 대해 일치 (aba)"
   ]
  },
  {
   "cell_type": "markdown",
   "metadata": {},
   "source": [
    "### 치환"
   ]
  },
  {
   "cell_type": "markdown",
   "metadata": {},
   "source": [
    "#### re.sub(pattern, repl, string, count, flags)\n",
    "- 패턴을 입력하고 무엇으로 바꿀지 설정한다.\n",
    "- 또한 count 인자를 통해 최대 몇번까지 바꿀지 지정가능하다."
   ]
  },
  {
   "cell_type": "code",
   "execution_count": 28,
   "metadata": {},
   "outputs": [
    {
     "name": "stdout",
     "output_type": "stream",
     "text": [
      "010-XXXX-XXXX\n",
      "XXXX-XXXX-XXXX\n"
     ]
    }
   ],
   "source": [
    "print(re.sub('\\d{4}', 'XXXX', '010-1234-5678')) # 연속된 4개의 숫자를 XXXX로 변경\n",
    "print(re.sub('[0-9]{3,4}', 'XXXX', '010-1234-5678')) # 연속된 3개이상 4개이하의 숫자를 XXXX로 변경"
   ]
  },
  {
   "cell_type": "code",
   "execution_count": 29,
   "metadata": {},
   "outputs": [
    {
     "name": "stdout",
     "output_type": "stream",
     "text": [
      "Ryan, Ryan, Gorio keep a straight face.\n"
     ]
    }
   ],
   "source": [
    "print(re.sub(pattern='Gorio', repl='Ryan', count=2, \\\n",
    "             string='Gorio, Gorio, Gorio keep a straight face.')) # 최대 2개 까지 Gorio를 Ryan으로 치환"
   ]
  },
  {
   "cell_type": "code",
   "execution_count": 30,
   "metadata": {},
   "outputs": [
    {
     "name": "stdout",
     "output_type": "stream",
     "text": [
      " Ryan\n"
     ]
    }
   ],
   "source": [
    "print(re.sub('Tube', '', 'Tube Ryan')) # Tube 제거"
   ]
  },
  {
   "cell_type": "markdown",
   "metadata": {},
   "source": [
    "#### re.subn(pattern, repl, string, count, flags)\n",
    "- 기본적으로 re.sub와 동일하지만 re.subn은 리턴하는 값이 치환된 문자열과 치환된 개수의 튜플이라는 것이 다르다."
   ]
  },
  {
   "cell_type": "code",
   "execution_count": 31,
   "metadata": {},
   "outputs": [
    {
     "name": "stdout",
     "output_type": "stream",
     "text": [
      "('Ryan, Ryan, Ryan keep a straight face.', 3)\n"
     ]
    }
   ],
   "source": [
    "print(re.subn(pattern='Gorio', repl='Ryan', \\\n",
    "              string='Gorio, Gorio, Gorio keep a straight face.'))"
   ]
  },
  {
   "cell_type": "code",
   "execution_count": 32,
   "metadata": {},
   "outputs": [
    {
     "name": "stdout",
     "output_type": "stream",
     "text": [
      "[링크](http://www.google.com) and [링크](https://lullulala.github.io)\n"
     ]
    }
   ],
   "source": [
    "print(re.sub('https?://\\S+',\n",
    "             '[링크](\\g<0>)',\n",
    "             'http://www.google.com and https://lullulala.github.io'))"
   ]
  },
  {
   "cell_type": "code",
   "execution_count": 33,
   "metadata": {},
   "outputs": [
    {
     "name": "stdout",
     "output_type": "stream",
     "text": [
      "1900.01.01\n"
     ]
    }
   ],
   "source": [
    "print(re.sub('(\\d{4})-(\\d{2})-(\\d{2})',\n",
    "             r'\\1.\\2.\\3',\n",
    "             '1900-01-01')) # \\1은 맨앞 (\\d{4}) \\2는 가운데 (\\d{4}) \\3는 마지막 (\\d{4})를 의미"
   ]
  },
  {
   "cell_type": "markdown",
   "metadata": {},
   "source": [
    "#### re.split\n",
    "- re.split은 일반적으로 사용하는 내장함수 split에 정규표현식을 입힌 형태이다. "
   ]
  },
  {
   "cell_type": "code",
   "execution_count": 34,
   "metadata": {},
   "outputs": [
    {
     "name": "stdout",
     "output_type": "stream",
     "text": [
      "['', ' Wow ', ' header ', ' ', ' Hey ', ' ', '']\n"
     ]
    }
   ],
   "source": [
    "print(re.split('<[a-z/]+>',\n",
    "               '<html> Wow <head> header </head> <body> Hey </body> </html>'))"
   ]
  }
 ],
 "metadata": {
  "kernelspec": {
   "display_name": "base",
   "language": "python",
   "name": "python3"
  },
  "language_info": {
   "codemirror_mode": {
    "name": "ipython",
    "version": 3
   },
   "file_extension": ".py",
   "mimetype": "text/x-python",
   "name": "python",
   "nbconvert_exporter": "python",
   "pygments_lexer": "ipython3",
   "version": "3.10.13"
  }
 },
 "nbformat": 4,
 "nbformat_minor": 2
}
